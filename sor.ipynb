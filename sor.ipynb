{
 "cells": [
  {
   "cell_type": "markdown",
   "id": "4b5ef809-a92d-42fd-8b82-34ee4bd9043e",
   "metadata": {},
   "source": [
    "# Some other race"
   ]
  },
  {
   "cell_type": "markdown",
   "id": "0e52e442-2d7b-4e1d-9d03-5f9644384498",
   "metadata": {},
   "source": [
    "Predictions:\n",
    "\n",
    "1. The upcoming propsal for changing the census is essentially adding hispanic as a race (because the ethnicity question is being eliminated)\n",
    "2. Middle Eastern/North African\n",
    "\n",
    "This means that the categories (minimum categories) will be:\n",
    "1. American Indian/Alaska Native\n",
    "2. Asian\n",
    "3. Black/African American\n",
    "4. Hispanic/Latino\n",
    "5. Middle Eastern/North African\n",
    "6. Native Hawaiian / Pacific Islander\n",
    "7. White\n",
    "\n",
    "What would be good for predictions?\n",
    "1. Some maps--looking at the ACS data to see where people fall under Hispanic and thus predict a shift in responses for 2030 ethnicity\n",
    "2. Looking specifically at country level to determine how adding Middle Eastern/North African will impact the responses as well. "
   ]
  },
  {
   "cell_type": "markdown",
   "id": "32463911-2ae3-4102-9b72-ef054eadc3a5",
   "metadata": {},
   "source": [
    "## Importing"
   ]
  },
  {
   "cell_type": "code",
   "execution_count": 11,
   "id": "d57c689f-10bb-45cb-8245-697c23711376",
   "metadata": {},
   "outputs": [],
   "source": [
    "import json\n",
    "\n",
    "import geopandas as gpd\n",
    "import pandas as pd\n",
    "import networkx as nx\n",
    "import matplotlib.pyplot as plt\n",
    "import requests\n",
    "import us\n",
    "\n",
    "from census import Census\n",
    "from shapely.geometry import Point\n",
    "\n",
    "import plotly.express as px\n",
    "\n",
    "from urllib.request import urlopen\n",
    "import json\n",
    "with urlopen('https://raw.githubusercontent.com/plotly/datasets/master/geojson-counties-fips.json') as response:\n",
    "    counties = json.load(response)"
   ]
  },
  {
   "cell_type": "code",
   "execution_count": 4,
   "id": "d8ac4456-59ed-4aea-820b-4c05082092b9",
   "metadata": {},
   "outputs": [],
   "source": [
    "census = Census(\"\", year=2020)"
   ]
  },
  {
   "cell_type": "markdown",
   "id": "8a355b53-0567-48d9-b2e8-0c26a3140a07",
   "metadata": {},
   "source": [
    "# Read files"
   ]
  },
  {
   "cell_type": "code",
   "execution_count": 99,
   "id": "57480e49-3ca6-4aa2-8375-d6058b8a97e3",
   "metadata": {},
   "outputs": [],
   "source": [
    "percents = pd.read_csv('race_pct_by_county.csv')"
   ]
  },
  {
   "cell_type": "code",
   "execution_count": 101,
   "id": "ac306108-b0e4-427a-bf30-6e7e15c70be9",
   "metadata": {},
   "outputs": [],
   "source": [
    "percents = percents.astype({'GEOID': 'str'})"
   ]
  },
  {
   "cell_type": "code",
   "execution_count": 103,
   "id": "f26a3c30-bc43-460f-8669-7d467299e4e6",
   "metadata": {},
   "outputs": [
    {
     "data": {
      "text/plain": [
       "'1001'"
      ]
     },
     "execution_count": 103,
     "metadata": {},
     "output_type": "execute_result"
    }
   ],
   "source": [
    "percents.iloc[0]['GEOID'] "
   ]
  },
  {
   "cell_type": "code",
   "execution_count": 104,
   "id": "eaf522b8-df72-49b4-b41a-53ed107c9aff",
   "metadata": {},
   "outputs": [],
   "source": [
    "string_fips = ['0']*len(percents)\n",
    "for i in range(len(percents)):\n",
    "    if len(percents.iloc[i]['GEOID']) == 4: \n",
    "        string_fips[i] = '0' + percents.iloc[i]['GEOID']\n",
    "    else: \n",
    "        string_fips[i] = percents.iloc[i]['GEOID']\n",
    "percents['GEOID'] = string_fips"
   ]
  },
  {
   "cell_type": "code",
   "execution_count": 107,
   "id": "154ac6cd-cd26-46d4-8597-f342b8c04bd1",
   "metadata": {},
   "outputs": [
    {
     "data": {
      "text/plain": [
       "0       01001\n",
       "1       01003\n",
       "2       01005\n",
       "3       01007\n",
       "4       01009\n",
       "        ...  \n",
       "3216    27129\n",
       "3217    27135\n",
       "3218    27141\n",
       "3219    27147\n",
       "3220    27153\n",
       "Name: GEOID, Length: 3221, dtype: object"
      ]
     },
     "execution_count": 107,
     "metadata": {},
     "output_type": "execute_result"
    }
   ],
   "source": [
    "percents['GEOID']"
   ]
  },
  {
   "cell_type": "markdown",
   "id": "617d38c0-ddbc-4422-9894-4adaa6f43bf3",
   "metadata": {},
   "source": [
    "## Functions"
   ]
  },
  {
   "cell_type": "code",
   "execution_count": 113,
   "id": "c2414555-8bff-4c6d-8210-e4c9a6eb7326",
   "metadata": {},
   "outputs": [],
   "source": [
    "def fips_to_string(dataframe, fips_col_name):\n",
    "    dataframe = dataframe.astype({fips_col_name: 'str'})\n",
    "    string_fips = ['0']*len(dataframe)\n",
    "    for i in range(len(dataframe)):\n",
    "        if len(dataframe.iloc[i][fips_col_name]) == 4: \n",
    "            dataframe[i] = '0' + dataframe.iloc[i][fips_col_name]\n",
    "        else: \n",
    "            string_fips[i] = dataframe.iloc[i][fips_col_name]\n",
    "    dataframe[fips_col_name] = string_fips\n",
    "    return dataframe"
   ]
  },
  {
   "cell_type": "code",
   "execution_count": 123,
   "id": "d5a486af-f353-42f1-8ccd-081a738ff714",
   "metadata": {},
   "outputs": [],
   "source": [
    "def make_heatmap(dataframe, fips_column_name, column_name):\n",
    "    maximum = dataframe[column_name].max()\n",
    "    fig = px.choropleth(dataframe, geojson=counties, locations=fips_column_name, color=column_name,\n",
    "                           color_continuous_scale=\"Viridis\",\n",
    "                           range_color=(0, maximum),\n",
    "                           scope=\"usa\",\n",
    "                           labels={'white':'percent white pop'}\n",
    "                          )\n",
    "    fig.update_layout(margin={\"r\":0,\"t\":0,\"l\":0,\"b\":0})\n",
    "    fig.show()"
   ]
  },
  {
   "cell_type": "markdown",
   "id": "ef6163c3-9f90-40cf-b82f-39c2c77260bd",
   "metadata": {},
   "source": [
    "## Visualizations"
   ]
  },
  {
   "cell_type": "code",
   "execution_count": 37,
   "id": "f154a230-8be4-4b14-8f55-b7b0de7dfc14",
   "metadata": {},
   "outputs": [],
   "source": [
    "counts = pd.read_csv('dataframe_stats_and_shape_w_ct_counties.csv')"
   ]
  },
  {
   "cell_type": "code",
   "execution_count": 39,
   "id": "90ccf513-f65a-4dfd-b599-514797c96721",
   "metadata": {},
   "outputs": [
    {
     "data": {
      "text/plain": [
       "numpy.int64"
      ]
     },
     "execution_count": 39,
     "metadata": {},
     "output_type": "execute_result"
    }
   ],
   "source": [
    "type(counts.iloc[0]['GEOID'])"
   ]
  },
  {
   "cell_type": "code",
   "execution_count": 121,
   "id": "c61d6787-d9c1-488f-ba59-621bdc283467",
   "metadata": {},
   "outputs": [
    {
     "data": {
      "text/plain": [
       "3259427.0"
      ]
     },
     "execution_count": 121,
     "metadata": {},
     "output_type": "execute_result"
    }
   ],
   "source": [
    "percents['white'].max()"
   ]
  },
  {
   "cell_type": "code",
   "execution_count": 115,
   "id": "d6797f4d-0a59-47d7-85a0-58d648092cf2",
   "metadata": {},
   "outputs": [],
   "source": [
    "categories = [\n",
    "    \"white_pct\",\n",
    "    \"black_pct\",\n",
    "    \"amin_pct\",\n",
    "    \"asian_pct\",\n",
    "    \"nhpi_pct\",\n",
    "    \"other_pct\",\n",
    "    \"two_or_more_pct\",\n",
    "    \"nh_white_pct\",\n",
    "    \"nh_black_pct\",\n",
    "    \"nh_amin_pct\",\n",
    "    \"nh_asian_pct\",\n",
    "    \"nh_nhpi_pct\",\n",
    "    \"nh_other_pct\",\n",
    "    \"nh_two_or_more_pct\"\n",
    "]"
   ]
  },
  {
   "cell_type": "code",
   "execution_count": null,
   "id": "b236a4a2-8a3b-478c-83af-d4b48db3c727",
   "metadata": {},
   "outputs": [],
   "source": [
    "for category in categories:\n",
    "    make_heatmap(percents, 'GEOID', category)"
   ]
  },
  {
   "cell_type": "code",
   "execution_count": null,
   "id": "e12f32ce-0053-4600-8264-5c89f04b3a94",
   "metadata": {},
   "outputs": [],
   "source": []
  }
 ],
 "metadata": {
  "kernelspec": {
   "display_name": ".venv",
   "language": "python",
   "name": ".venv"
  },
  "language_info": {
   "codemirror_mode": {
    "name": "ipython",
    "version": 3
   },
   "file_extension": ".py",
   "mimetype": "text/x-python",
   "name": "python",
   "nbconvert_exporter": "python",
   "pygments_lexer": "ipython3",
   "version": "3.11.5"
  }
 },
 "nbformat": 4,
 "nbformat_minor": 5
}
