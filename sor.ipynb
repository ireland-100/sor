{
 "cells": [
  {
   "cell_type": "markdown",
   "id": "4b5ef809-a92d-42fd-8b82-34ee4bd9043e",
   "metadata": {},
   "source": [
    "# Some other race"
   ]
  },
  {
   "cell_type": "markdown",
   "id": "0e52e442-2d7b-4e1d-9d03-5f9644384498",
   "metadata": {},
   "source": [
    "Predictions:\n",
    "\n",
    "1. The upcoming propsal for changing the census is essentially adding hispanic as a race (because the ethnicity question is being eliminated)\n",
    "2. Middle Eastern/North African\n",
    "\n",
    "This means that the categories (minimum categories) will be:\n",
    "1. American Indian/Alaska Native\n",
    "2. Asian\n",
    "3. Black/African American\n",
    "4. Hispanic/Latino\n",
    "5. Middle Eastern/North African\n",
    "6. Native Hawaiian / Pacific Islander\n",
    "7. White\n",
    "\n",
    "What would be good for predictions?\n",
    "1. Some maps--looking at the ACS data to see where people fall under Hispanic and thus predict a shift in responses for 2030 ethnicity\n",
    "2. Looking specifically at country level to determine how adding Middle Eastern/North African will impact the responses as well. "
   ]
  },
  {
   "cell_type": "markdown",
   "id": "32463911-2ae3-4102-9b72-ef054eadc3a5",
   "metadata": {},
   "source": [
    "# Importing"
   ]
  },
  {
   "cell_type": "code",
   "execution_count": null,
   "id": "d57c689f-10bb-45cb-8245-697c23711376",
   "metadata": {},
   "outputs": [],
   "source": [
    "import json\n",
    "\n",
    "import geopandas as gpd\n",
    "import pandas as pd\n",
    "import networkx as nx\n",
    "import matplotlib.pyplot as plt\n",
    "import requests\n",
    "import us\n",
    "\n",
    "from census import Census\n",
    "from shapely.geometry import Point\n",
    "\n",
    "import plotly.express as px\n",
    "\n",
    "from urllib.request import urlopen\n",
    "import json\n",
    "with urlopen('https://raw.githubusercontent.com/plotly/datasets/master/geojson-counties-fips.json') as response:\n",
    "    counties = json.load(response)"
   ]
  },
  {
   "cell_type": "code",
   "execution_count": null,
   "id": "d8ac4456-59ed-4aea-820b-4c05082092b9",
   "metadata": {},
   "outputs": [],
   "source": [
    "census = Census(\"\", year=2020)"
   ]
  },
  {
   "cell_type": "markdown",
   "id": "8a355b53-0567-48d9-b2e8-0c26a3140a07",
   "metadata": {},
   "source": [
    "# Read files\n",
    "\n",
    "When you read in files from a CSV, they convert what's supposed to be a string of numbers (the GEOID) to an integer. This is a problem because some FIPS codes begin with 0; so after we read in the files, we need to convert the FIPS to strings and add the 0s in the front if necessary (this is only needed for the first six states)"
   ]
  },
  {
   "cell_type": "code",
   "execution_count": null,
   "id": "57480e49-3ca6-4aa2-8375-d6058b8a97e3",
   "metadata": {},
   "outputs": [],
   "source": [
    "percents = pd.read_csv('all_race_pct_by_county.csv')"
   ]
  },
  {
   "cell_type": "code",
   "execution_count": null,
   "id": "ac306108-b0e4-427a-bf30-6e7e15c70be9",
   "metadata": {},
   "outputs": [],
   "source": [
    "percents = percents.astype({'GEOID': 'str'})"
   ]
  },
  {
   "cell_type": "code",
   "execution_count": null,
   "id": "f26a3c30-bc43-460f-8669-7d467299e4e6",
   "metadata": {},
   "outputs": [],
   "source": [
    "percents.iloc[0]['GEOID'] "
   ]
  },
  {
   "cell_type": "code",
   "execution_count": null,
   "id": "eaf522b8-df72-49b4-b41a-53ed107c9aff",
   "metadata": {},
   "outputs": [],
   "source": [
    "string_fips = ['0']*len(percents)\n",
    "for i in range(len(percents)):\n",
    "    if len(percents.iloc[i]['GEOID']) == 4: \n",
    "        string_fips[i] = '0' + percents.iloc[i]['GEOID']\n",
    "    else: \n",
    "        string_fips[i] = percents.iloc[i]['GEOID']\n",
    "percents['GEOID'] = string_fips"
   ]
  },
  {
   "cell_type": "code",
   "execution_count": null,
   "id": "154ac6cd-cd26-46d4-8597-f342b8c04bd1",
   "metadata": {},
   "outputs": [],
   "source": [
    "percents['GEOID']"
   ]
  },
  {
   "cell_type": "code",
   "execution_count": null,
   "id": "a5af022d-ea1b-470e-8fd0-0bfaf18670e4",
   "metadata": {},
   "outputs": [],
   "source": [
    "data_w_o = pd.read_csv('dataframe_stats_and_shape_with_ct_counties_711.csv')\n",
    "data_w_o"
   ]
  },
  {
   "cell_type": "code",
   "execution_count": null,
   "id": "80298a08-d005-41c7-b1b3-d40902a6ef1a",
   "metadata": {},
   "outputs": [],
   "source": [
    "test = data_w_o['white'] + data_w_o['black'] + data_w_o['amin'] + data_w_o['asian'] + data_w_o['nhpi'] + data_w_o['two_or_more'] + data_w_o['other']\n",
    "data_w_o['total_pop'] = test"
   ]
  },
  {
   "cell_type": "code",
   "execution_count": null,
   "id": "6e7c08db-5bcd-4d67-b264-c031bf10c6a3",
   "metadata": {},
   "outputs": [],
   "source": [
    "data_w_o = data_w_o.astype({'GEOID': 'str'})\n",
    "string_fips = ['0']*len(data_w_o)\n",
    "for i in range(len(data_w_o)):\n",
    "    if len(data_w_o.iloc[i]['GEOID']) == 4: \n",
    "        string_fips[i] = '0' + data_w_o.iloc[i]['GEOID']\n",
    "    else: \n",
    "        string_fips[i] = data_w_o.iloc[i]['GEOID']\n",
    "data_w_o['GEOID'] = string_fips"
   ]
  },
  {
   "cell_type": "code",
   "execution_count": null,
   "id": "b3bba774-8e1b-4ede-9777-84a23ea9f9e2",
   "metadata": {},
   "outputs": [],
   "source": [
    "data_w_o.iloc[0]['GEOID']"
   ]
  },
  {
   "cell_type": "code",
   "execution_count": null,
   "id": "2794e327-023e-4374-b764-b89b987db387",
   "metadata": {},
   "outputs": [],
   "source": [
    "data_w_o.columns.to_list()"
   ]
  },
  {
   "cell_type": "markdown",
   "id": "617d38c0-ddbc-4422-9894-4adaa6f43bf3",
   "metadata": {},
   "source": [
    "# Functions"
   ]
  },
  {
   "cell_type": "code",
   "execution_count": null,
   "id": "c2414555-8bff-4c6d-8210-e4c9a6eb7326",
   "metadata": {},
   "outputs": [],
   "source": [
    "def fips_to_string(dataframe, fips_col_name):\n",
    "    dataframe = dataframe.astype({fips_col_name: 'str'})\n",
    "    string_fips = ['0']*len(dataframe)\n",
    "    for i in range(len(dataframe)):\n",
    "        if len(dataframe.iloc[i][fips_col_name]) == 4: \n",
    "            dataframe[i] = '0' + dataframe.iloc[i][fips_col_name]\n",
    "        else: \n",
    "            string_fips[i] = dataframe.iloc[i][fips_col_name]\n",
    "    dataframe[fips_col_name] = string_fips\n",
    "    return dataframe"
   ]
  },
  {
   "cell_type": "code",
   "execution_count": null,
   "id": "d5a486af-f353-42f1-8ccd-081a738ff714",
   "metadata": {},
   "outputs": [],
   "source": [
    "def make_heatmap(dataframe, fips_column_name, column_name):\n",
    "    maximum = dataframe[column_name].max()\n",
    "    fig = px.choropleth(dataframe, geojson=counties, locations=fips_column_name, color=column_name,\n",
    "                           color_continuous_scale=\"Viridis\",\n",
    "                           range_color=(0, maximum),\n",
    "                           scope=\"usa\",\n",
    "                           labels={'white':'percent white pop'}\n",
    "                          )\n",
    "    fig.update_layout(margin={\"r\":0,\"t\":0,\"l\":0,\"b\":0})\n",
    "    fig.show()"
   ]
  },
  {
   "cell_type": "markdown",
   "id": "ef6163c3-9f90-40cf-b82f-39c2c77260bd",
   "metadata": {},
   "source": [
    "## Visualizations"
   ]
  },
  {
   "cell_type": "code",
   "execution_count": null,
   "id": "f154a230-8be4-4b14-8f55-b7b0de7dfc14",
   "metadata": {},
   "outputs": [],
   "source": [
    "counts = pd.read_csv('dataframe_stats_and_shape_w_ct_counties.csv')"
   ]
  },
  {
   "cell_type": "code",
   "execution_count": null,
   "id": "90ccf513-f65a-4dfd-b599-514797c96721",
   "metadata": {},
   "outputs": [],
   "source": [
    "type(counts.iloc[0]['GEOID'])"
   ]
  },
  {
   "cell_type": "code",
   "execution_count": null,
   "id": "c61d6787-d9c1-488f-ba59-621bdc283467",
   "metadata": {},
   "outputs": [],
   "source": [
    "percents.columns.to_list()"
   ]
  },
  {
   "cell_type": "code",
   "execution_count": null,
   "id": "d6797f4d-0a59-47d7-85a0-58d648092cf2",
   "metadata": {},
   "outputs": [],
   "source": [
    "categories = [\n",
    "    \"white_pct\",\n",
    "    \"black_pct\",\n",
    "    \"amin_pct\",\n",
    "    \"asian_pct\",\n",
    "    \"nhpi_pct\",\n",
    "    \"other_pct\",\n",
    "    \"two_or_more_pct\",\n",
    "    \"nh_white_pct\",\n",
    "    \"nh_black_pct\",\n",
    "    \"nh_amin_pct\",\n",
    "    \"nh_asian_pct\",\n",
    "    \"nh_nhpi_pct\",\n",
    "    \"nh_other_pct\",\n",
    "    \"nh_two_or_more_pct\",\n",
    "    'h_white_pct',\n",
    "    'h_black_pct',\n",
    "    'h_amin_pct',\n",
    "    'h_asian_pct',\n",
    "    'h_nhpi_pct',\n",
    "    'h_other_pct',\n",
    "    'h_two_or_more_pct'\n",
    "]"
   ]
  },
  {
   "cell_type": "code",
   "execution_count": null,
   "id": "b236a4a2-8a3b-478c-83af-d4b48db3c727",
   "metadata": {},
   "outputs": [],
   "source": [
    "for category in categories:\n",
    "    make_heatmap(percents, 'GEOID', category)"
   ]
  },
  {
   "cell_type": "code",
   "execution_count": null,
   "id": "e3a7035a-f9a1-44b9-92af-148e0c39913e",
   "metadata": {},
   "outputs": [],
   "source": [
    "\n",
    "maximum = percents['h_black_pct'].max()\n",
    "fig = px.choropleth(percents, geojson=counties, locations='GEOID', color='h_black_pct',\n",
    "                       color_continuous_scale=\"Viridis\",\n",
    "                       range_color=(0, 2),\n",
    "                       scope=\"usa\",\n",
    "                       labels={'white':'percent white pop'}\n",
    "                      )\n",
    "fig.update_layout(margin={\"r\":0,\"t\":0,\"l\":0,\"b\":0})\n",
    "fig.show()"
   ]
  },
  {
   "cell_type": "markdown",
   "id": "4c0c0941-9143-4898-b5fa-140218174df2",
   "metadata": {},
   "source": [
    "## Some notes"
   ]
  },
  {
   "cell_type": "markdown",
   "id": "1f928788-2c31-4f1b-ba60-0e013f30f383",
   "metadata": {},
   "source": [
    "Let W stand for white alone, Hispanic or not. consider the following three categories.\n",
    "1. Hisp + W (alone, not checking anything else)\n",
    "2. Hisp + some other race (alone, not checking anything else)\n",
    "3. Hisp + x for x being one of the other races we have information on.\n",
    "\n",
    "We expect 1 to be about 50%, 2 to be about 50%, and 3 to be about epsilon. \n",
    "\n",
    "With this in mind, we have some questions: \n",
    "1. is this 1/2-1/2-epsilon split roughly correct nationally? Of sor alone, what share hispanic? How likely to be two or more vs two or more given that you've picked some other race?\n",
    "2. what states and counties are farthest from the national trend?\n",
    "3. What about the share of NH SOR; what states and counties are much higher?\n",
    "4. Do the 3 categories above plus non-hispanic\n",
    "\n",
    "EDIT: view all except X as viewing the races alone)\n",
    "\n",
    "How does this change if you shift from total population to voting age population?"
   ]
  },
  {
   "cell_type": "markdown",
   "id": "93b9ec91-2596-480d-87be-140e54de73da",
   "metadata": {},
   "source": [
    "ACS categories: https://data.census.gov/table/ACSDT1Y2022.B02001?q=asian\n",
    "\n",
    "https://data.census.gov/table?q=s2901"
   ]
  },
  {
   "cell_type": "markdown",
   "id": "ae0f0822-6dc7-4701-ae08-187448f5d856",
   "metadata": {},
   "source": [
    "Starting to look at microdata: https://data.census.gov/table/ACSDT5Y2022.B05006?q=B05006"
   ]
  },
  {
   "cell_type": "markdown",
   "id": "47a604c7-ab6a-473e-b2b3-d407a1ea70e6",
   "metadata": {},
   "source": [
    "# Decennial Questions"
   ]
  },
  {
   "cell_type": "markdown",
   "id": "517167f4-4158-4121-9d88-99a6318aeab7",
   "metadata": {
    "jp-MarkdownHeadingCollapsed": true
   },
   "source": [
    "## The 50-50-epsilon split"
   ]
  },
  {
   "cell_type": "code",
   "execution_count": null,
   "id": "e5185e03-dd20-4395-9959-3a10c1587147",
   "metadata": {},
   "outputs": [],
   "source": [
    "h_categories = [\n",
    "    'h_white',\n",
    "    'h_black',\n",
    "    'h_amin',\n",
    "    'h_asian',\n",
    "    'h_nhpi',\n",
    "    'h_other',\n",
    "    'h_two_or_more'\n",
    "]"
   ]
  },
  {
   "cell_type": "code",
   "execution_count": null,
   "id": "0c7e5267-5414-4ea0-a30f-4c8d09051bfa",
   "metadata": {},
   "outputs": [],
   "source": [
    "h_sums = []\n",
    "for h_cat in h_categories:\n",
    "    sum_h_cat = percents[h_cat].sum()\n",
    "    h_sums.append(sum_h_cat)\n",
    "\n",
    "total_h = sum(h_sums)"
   ]
  },
  {
   "cell_type": "code",
   "execution_count": null,
   "id": "da6492a7-56c9-4574-b57c-477b907c4a00",
   "metadata": {},
   "outputs": [],
   "source": [
    "h_sums"
   ]
  },
  {
   "cell_type": "code",
   "execution_count": null,
   "id": "5fe85625-aba1-47f0-a4a3-3766a5e923af",
   "metadata": {},
   "outputs": [],
   "source": [
    "p_h_total = percents['h_total'].sum()"
   ]
  },
  {
   "cell_type": "code",
   "execution_count": null,
   "id": "f148fe4a-7a13-4078-8704-55845f7e4eb7",
   "metadata": {},
   "outputs": [],
   "source": [
    "total_h"
   ]
  },
  {
   "cell_type": "code",
   "execution_count": null,
   "id": "98ee634d-b140-499a-8257-55fad8f32f29",
   "metadata": {},
   "outputs": [],
   "source": [
    "p_h_total"
   ]
  },
  {
   "cell_type": "code",
   "execution_count": null,
   "id": "c6084d8a-54eb-49e3-8577-4867f75bddee",
   "metadata": {},
   "outputs": [],
   "source": [
    "h_sums/total_h"
   ]
  },
  {
   "cell_type": "code",
   "execution_count": null,
   "id": "ce7505ba-658e-485d-acce-b1d71ed3ba1d",
   "metadata": {},
   "outputs": [],
   "source": [
    "h_sums[5]/total_h"
   ]
  },
  {
   "cell_type": "code",
   "execution_count": null,
   "id": "414a04f7-0dc8-4ce1-becf-ecf3c282f82e",
   "metadata": {},
   "outputs": [],
   "source": [
    "hX = (h_sums/total_h)[1] + (h_sums/total_h)[2] + (h_sums/total_h)[3] + (h_sums/total_h)[4] "
   ]
  },
  {
   "cell_type": "code",
   "execution_count": null,
   "id": "954d3f7a-67bd-43e3-b85e-e688fcc76553",
   "metadata": {},
   "outputs": [],
   "source": [
    "hX"
   ]
  },
  {
   "cell_type": "markdown",
   "id": "950c0ea8-aa11-4ccd-8027-e8776411e9a3",
   "metadata": {},
   "source": [
    "Note that as defined (see Week 2 of Moon's class notebooks for details), it is *not* the case that this is a 50-50-epsilon split; indeed, we see that it is about 20.1%. Hispanic and just some other race is about 41.4%; 33.3% of people that marked Hispanic marked at least two races (including both white and some other race). The remaining ~5% are hispanic and just one of the other selections. \n",
    "\n",
    "Therefore, if you assume that we are looking at white alone, this 50-50-epsilon split is incorrect. However, if you are ok with Hispanic white + hispanic and 2+ are in one group, this is indeed true (with epsilon being 5). "
   ]
  },
  {
   "cell_type": "markdown",
   "id": "f079ddcc-ed00-45ef-9756-2d35913769f2",
   "metadata": {},
   "source": [
    "### White and white & SOR "
   ]
  },
  {
   "cell_type": "markdown",
   "id": "aef1bd5b-f8ad-48f5-954e-4752b31fd553",
   "metadata": {},
   "source": [
    "If we want to answer the 50-50-epsilon question with the categories:\n",
    "1. Hispanic and white or hispanic and white and SOR;\n",
    "2. Hispanic and SOR_0\n",
    "3. Hispanic and X (X standing for any other category)\n",
    "We will look at the data_w_o (with white and other) dataframe. "
   ]
  },
  {
   "cell_type": "code",
   "execution_count": null,
   "id": "6fc2ae0a-4ebc-420e-8586-014ca77c57d8",
   "metadata": {},
   "outputs": [],
   "source": [
    "data_w_o.columns.to_list()"
   ]
  },
  {
   "cell_type": "code",
   "execution_count": null,
   "id": "743cf869-59a3-43e0-b7ac-e8fc024459de",
   "metadata": {},
   "outputs": [],
   "source": [
    "hispanic_pop = data_w_o['h_white'].sum()+data_w_o['h_black'].sum() + data_w_o['h_amin'].sum() + data_w_o['h_asian'].sum() + data_w_o['h_nhpi'].sum() + data_w_o['h_other'].sum() + data_w_o['h_two_or_more'].sum()\n"
   ]
  },
  {
   "cell_type": "code",
   "execution_count": null,
   "id": "2cb50193-515a-40e7-9528-a78adfe479df",
   "metadata": {},
   "outputs": [],
   "source": [
    "hispanic_pop"
   ]
  },
  {
   "cell_type": "code",
   "execution_count": null,
   "id": "6fb39c40-a42f-41c2-9725-8a1f667a0f10",
   "metadata": {},
   "outputs": [],
   "source": [
    "data_w_o['h_white_and_other'].sum() + data_w_o['h_white'].sum()"
   ]
  },
  {
   "cell_type": "code",
   "execution_count": null,
   "id": "807e0aaf-47aa-4258-b373-25fab67f17d0",
   "metadata": {},
   "outputs": [],
   "source": [
    "(data_w_o['h_white_and_other'].sum() + data_w_o['h_white'].sum())/hispanic_pop"
   ]
  },
  {
   "cell_type": "code",
   "execution_count": null,
   "id": "7458da24-b8fd-402b-8605-cee416f5b4bb",
   "metadata": {},
   "outputs": [],
   "source": [
    "data_w_o['h_other'].sum()/hispanic_pop"
   ]
  },
  {
   "cell_type": "code",
   "execution_count": null,
   "id": "a3a4d657-6285-428f-8607-6b06b98132c0",
   "metadata": {},
   "outputs": [],
   "source": [
    "two_or_more_minus = data_w_o['h_two_or_more'].sum() - data_w_o['h_white_and_other'].sum() "
   ]
  },
  {
   "cell_type": "code",
   "execution_count": null,
   "id": "6a6621d8-e8bb-4479-a2c3-dd25c3818a79",
   "metadata": {},
   "outputs": [],
   "source": [
    "(data_w_o['h_black'].sum() + data_w_o['h_amin'].sum() + data_w_o['h_asian'].sum() + data_w_o['h_nhpi'].sum())/hispanic_pop\n"
   ]
  },
  {
   "cell_type": "code",
   "execution_count": null,
   "id": "737f9614-d089-4c7b-be42-2bc1f765bff9",
   "metadata": {},
   "outputs": [],
   "source": [
    "two_or_more_minus/hispanic_pop"
   ]
  },
  {
   "cell_type": "markdown",
   "id": "554db4b7-59d9-4494-a6a4-11777385f004",
   "metadata": {},
   "source": [
    "Thus, we conclude that once we add the two together, we do get the 50%-50% epsilon split; in particular:\n",
    "* 48.1% Hispanic and white only or hispanic and (white and SOR) only\n",
    "* 41.4% Hispanic and SOR only;\n",
    "* 5.5% Hispanic and two or more that are not just white and SOR\n",
    "* 4.9% Hispanic and everything else. "
   ]
  },
  {
   "cell_type": "markdown",
   "id": "2a58989e-c41b-4279-9fa5-c3056ce9be65",
   "metadata": {},
   "source": [
    "### Which states/counties deviate the most from this average?"
   ]
  },
  {
   "cell_type": "code",
   "execution_count": null,
   "id": "7c2983e3-2c19-463e-bce6-442d5d487adf",
   "metadata": {},
   "outputs": [],
   "source": [
    "percents.columns.to_list()"
   ]
  },
  {
   "cell_type": "code",
   "execution_count": null,
   "id": "8c329c2c-5d10-4910-9c2e-e234e009b61b",
   "metadata": {},
   "outputs": [],
   "source": [
    "make_heatmap(percents, 'GEOID', 'h_white_pct')"
   ]
  },
  {
   "cell_type": "code",
   "execution_count": null,
   "id": "11d7266f-012e-482c-9e8c-a1800d7774a3",
   "metadata": {},
   "outputs": [],
   "source": [
    "make_heatmap(percents, 'GEOID', 'h_other_pct')"
   ]
  },
  {
   "cell_type": "code",
   "execution_count": null,
   "id": "0981e596-499a-4c28-ac9d-9771f078236f",
   "metadata": {},
   "outputs": [],
   "source": [
    "deviations= pd.DataFrame()\n",
    "\n",
    "deviations['h_white_pct_devs'] = percents['h_white_pct'] - 20.1\n",
    "deviations['GEOID'] = percents['GEOID']"
   ]
  },
  {
   "cell_type": "code",
   "execution_count": null,
   "id": "dc64ff14-d1b3-497d-9919-886a0e8b005e",
   "metadata": {},
   "outputs": [],
   "source": [
    "deviations['h_white_pct_devs'].max()"
   ]
  },
  {
   "cell_type": "code",
   "execution_count": null,
   "id": "be2dd9c2-677d-4ec2-a5c2-d3a4b9403b2d",
   "metadata": {},
   "outputs": [],
   "source": [
    "minimum = deviations['h_white_pct_devs'].min()\n",
    "maximum = deviations['h_white_pct_devs'].max()\n",
    "fig = px.choropleth(deviations, geojson=counties, locations='GEOID', color='h_white_pct_devs',\n",
    "                       color_continuous_scale=\"agsunset\",\n",
    "                       range_color=(minimum, maximum),\n",
    "                       scope=\"usa\",\n",
    "                       #labels={'white':'percent white pop'}\n",
    "                      )\n",
    "fig.update_layout(margin={\"r\":0,\"t\":0,\"l\":0,\"b\":0})\n",
    "fig.show()"
   ]
  },
  {
   "cell_type": "markdown",
   "id": "c349df25-1ac5-4ee1-8dec-7affadb81374",
   "metadata": {},
   "source": [
    "We conclude that Texas and New Mexico are the main states that deviate from the Hispanic white only population the most (in a positive sense of the word deviation). The states/areas with the most deviation in the negative sense are: "
   ]
  },
  {
   "cell_type": "code",
   "execution_count": null,
   "id": "9a960baf-59f7-41a6-8d59-0dd5c887a546",
   "metadata": {},
   "outputs": [],
   "source": [
    "deviations['h_white_pct_devs_neg'] = deviations['h_white_pct_devs']*(-1)"
   ]
  },
  {
   "cell_type": "code",
   "execution_count": null,
   "id": "a0325244-fa77-4b52-8db9-c2da71a30848",
   "metadata": {},
   "outputs": [],
   "source": [
    "\n",
    "fig = px.choropleth(deviations, geojson=counties, locations='GEOID', color='h_white_pct_devs_neg',\n",
    "                       color_continuous_scale=\"Viridis\",\n",
    "                       range_color=(maximum*(-1), minimum*(-1)),\n",
    "                       scope=\"usa\",\n",
    "                       #labels={'white':'percent white pop'}\n",
    "                      )\n",
    "fig.update_layout(margin={\"r\":0,\"t\":0,\"l\":0,\"b\":0})\n",
    "fig.show()"
   ]
  },
  {
   "cell_type": "markdown",
   "id": "e2171247-f2c0-4a3b-8c59-4ee95e317b27",
   "metadata": {},
   "source": [
    "To me, this seems to say that the values are polarized. \n",
    "\n",
    "The specific names:"
   ]
  },
  {
   "cell_type": "code",
   "execution_count": null,
   "id": "e812a7e7-3340-44cc-91e1-ac933253cc79",
   "metadata": {},
   "outputs": [],
   "source": [
    "largest_row_1 = deviations.nlargest(20, ['h_white_pct_devs'])"
   ]
  },
  {
   "cell_type": "code",
   "execution_count": null,
   "id": "3bf8bb1d-31bb-4d63-9aee-dcfd2a08bec5",
   "metadata": {},
   "outputs": [],
   "source": [
    "largest_row_1"
   ]
  },
  {
   "cell_type": "markdown",
   "id": "8504874c-78e9-413f-8f01-f0432d00f8a5",
   "metadata": {},
   "source": [
    "So, the top 20 counties are:\n",
    "1. Reeves County, TX\n",
    "2. Zavala County, TX\n",
    "3. Duval County, TX\n",
    "4. Jim Hogg County, TX\n",
    "5. Jim Wells County, TX\n",
    "6. Garza County, TX\n",
    "7. Webb County, TX\n",
    "8. Willacy County, TX\n",
    "9. Dimmit County, TX\n",
    "10. Kleberg County, TX\n",
    "11. Zapata County, TX\n",
    "12. Starr County, TX\n",
    "13. Brooks County, TX\n",
    "14. Mora County, NM\n",
    "15. Cameron County, TX\n",
    "16. Frio County, TX\n",
    "17. Guadalupe County, NM\n",
    "18. Hidalgo County, TX\n",
    "19. Val Verde County, TX\n",
    "20. Maverick County, TX"
   ]
  },
  {
   "cell_type": "markdown",
   "id": "28753ec6-173c-4bd5-bcd0-a658e7ba6ea3",
   "metadata": {},
   "source": [
    "Now let us look at hispanic and only chose some other race. Where are the deviations the highest?"
   ]
  },
  {
   "cell_type": "code",
   "execution_count": null,
   "id": "68a996ae-d577-4f58-8851-b1bb44865acc",
   "metadata": {},
   "outputs": [],
   "source": [
    "deviations['h_other_pct_devs'] = 100*(percents['h_other']/percents['h_total']) - 100*(percents['h_other']/percents['h_total']).mean()\n",
    "\n",
    "\n",
    "\n"
   ]
  },
  {
   "cell_type": "code",
   "execution_count": null,
   "id": "732723ce-a58c-4137-9e8d-44ed3facae80",
   "metadata": {},
   "outputs": [],
   "source": [
    "minimum = deviations['h_other_pct_devs'].min()\n",
    "maximum = deviations['h_other_pct_devs'].max()\n",
    "fig = px.choropleth(deviations, geojson=counties, locations='GEOID', color='h_other_pct_devs',\n",
    "                       color_continuous_scale=\"agsunset\",\n",
    "                       range_color=(minimum, maximum),\n",
    "                       scope=\"usa\",\n",
    "                       #labels={'white':'percent white pop'}\n",
    "                      )\n",
    "fig.update_layout(margin={\"r\":0,\"t\":0,\"l\":0,\"b\":0})\n",
    "fig.show()"
   ]
  },
  {
   "cell_type": "code",
   "execution_count": null,
   "id": "bf606bf4-5fd4-447d-861c-9ac2022ec9eb",
   "metadata": {},
   "outputs": [],
   "source": [
    "largest_row_2 = deviations.nlargest(20, ['h_other_pct_devs'])"
   ]
  },
  {
   "cell_type": "markdown",
   "id": "fac3c789-d734-4b9b-a252-44f482bbeb3c",
   "metadata": {},
   "source": [
    "So, the top 20 counties are:\n",
    "1. Stewart County, GA\n",
    "2. Aleutians East Borough, AK\n",
    "3. Iberia Parish, LA\n",
    "4. Franklin County, PA\n",
    "5. St Mary Parish, LA\n",
    "6. Caldwell Parish, LA\n",
    "7. Bond County, IL\n",
    "8. Effingham County, IL\n",
    "9. Boone County, AR\n",
    "10. Washington County, IL\n",
    "11. Adams county, MO\n",
    "12. Simpson County, MO\n",
    "13. Houston County, GA\n",
    "14. Franklin County, MO\n",
    "15. Howard County, NE\n",
    "16. Crawford County, GA\n",
    "17. Mitchell County, NC\n",
    "18. Greene County, NC\n",
    "19. Jefferson County, MO\n",
    "20. Wake County, NC"
   ]
  },
  {
   "cell_type": "markdown",
   "id": "1411a0e1-7996-49ff-aff8-55e57df8e02c",
   "metadata": {
    "jp-MarkdownHeadingCollapsed": true
   },
   "source": [
    "## Of only SOR, what percent hispanic?"
   ]
  },
  {
   "cell_type": "code",
   "execution_count": null,
   "id": "bdc72883-7f28-4803-b31a-aa7a3f332e3e",
   "metadata": {},
   "outputs": [],
   "source": [
    "some_other_race = pd.DataFrame()"
   ]
  },
  {
   "cell_type": "code",
   "execution_count": null,
   "id": "f93f3e5e-0bec-4a07-987f-cac07d382226",
   "metadata": {},
   "outputs": [],
   "source": [
    "some_other_race['GEOID'] = percents['GEOID']\n",
    "some_other_race['some_other_race'] = percents['other']\n",
    "some_other_race['nh_some_other_race'] = percents['nh_other']\n",
    "some_other_race['h_some_other_race'] = percents['h_other']"
   ]
  },
  {
   "cell_type": "code",
   "execution_count": null,
   "id": "ded02bb8-4747-45a9-b985-2f209d4b66ed",
   "metadata": {},
   "outputs": [],
   "source": [
    "some_other_race"
   ]
  },
  {
   "cell_type": "code",
   "execution_count": null,
   "id": "1faa8a34-edca-407d-b441-9f649bcebf3e",
   "metadata": {},
   "outputs": [],
   "source": [
    "some_other_race['h_share'] = some_other_race['h_some_other_race']/some_other_race['some_other_race']"
   ]
  },
  {
   "cell_type": "code",
   "execution_count": null,
   "id": "af9e4016-f61e-44f6-964b-d5c39fd81973",
   "metadata": {},
   "outputs": [],
   "source": [
    "some_other_race"
   ]
  },
  {
   "cell_type": "code",
   "execution_count": null,
   "id": "18fa0d2a-d1d1-4872-9aef-085de2104446",
   "metadata": {},
   "outputs": [],
   "source": [
    "make_heatmap(some_other_race, 'GEOID', 'h_share')"
   ]
  },
  {
   "cell_type": "code",
   "execution_count": null,
   "id": "8cc361e1-f709-4da7-96b3-e60bcf467f15",
   "metadata": {},
   "outputs": [],
   "source": [
    "total_some_other_race = some_other_race['some_other_race'].sum()"
   ]
  },
  {
   "cell_type": "code",
   "execution_count": null,
   "id": "ae14c11d-daf9-42fa-8584-d36e134f05da",
   "metadata": {},
   "outputs": [],
   "source": [
    "total_sor_h = some_other_race['h_some_other_race'].sum()\n",
    "total_sor_nh = some_other_race['nh_some_other_race'].sum()"
   ]
  },
  {
   "cell_type": "code",
   "execution_count": null,
   "id": "411f2b59-43bb-4bd7-9e38-d05f727eb744",
   "metadata": {},
   "outputs": [],
   "source": [
    "total_sor_h/total_some_other_race"
   ]
  },
  {
   "cell_type": "code",
   "execution_count": null,
   "id": "e9b5a17c-7be9-47e9-a274-5d181216ce43",
   "metadata": {},
   "outputs": [],
   "source": [
    "total_sor_nh/total_some_other_race"
   ]
  },
  {
   "cell_type": "markdown",
   "id": "e77a1827-d6cb-4169-b576-aca9648c05da",
   "metadata": {},
   "source": [
    "So, of those who check off ONLY some other race, 94% are hispanic.\n",
    "\n",
    "What states/counties are high in non-hispanic some other race?"
   ]
  },
  {
   "cell_type": "code",
   "execution_count": null,
   "id": "016f48fe-795e-4484-affe-cb48c966a479",
   "metadata": {},
   "outputs": [],
   "source": [
    "smallest_rows_1 = some_other_race.nsmallest(20, ['h_share'])"
   ]
  },
  {
   "cell_type": "code",
   "execution_count": null,
   "id": "ae0f2edd-ee70-4daf-8ada-facf9276d443",
   "metadata": {},
   "outputs": [],
   "source": [
    "smallest_rows_1['GEOID'].to_list()"
   ]
  },
  {
   "cell_type": "markdown",
   "id": "9af61778-ac20-4056-936e-e7431f429ed0",
   "metadata": {},
   "source": [
    "The counties with the highest non-hispanic some other race are:\n",
    "1. Cache County UT\n",
    "2. Grant County NE\n",
    "3. McPherson County NE\n",
    "4. Calhoun County WV\n",
    "5. Clay County WV\n",
    "6. Hinsdale County CO\n",
    "7. Carter County MT\n",
    "8. Garfield County NE\n",
    "9. Powder River County MT\n",
    "10. Wheeler County NE\n",
    "11. Houston County GA\n",
    "12. Kalawao County HI\n",
    "13. Liberty County MT\n",
    "14. Hidalgo County TX\n",
    "15. Muskegon County MI\n",
    "16. Jewell County KS\n",
    "17. Haakon County SD\n",
    "18. Bell County KY\n",
    "19. Potter County SD\n",
    "20. Sully County SD"
   ]
  },
  {
   "cell_type": "markdown",
   "id": "5620413f-6936-468a-b943-be2c7aed6db5",
   "metadata": {
    "jp-MarkdownHeadingCollapsed": true
   },
   "source": [
    "## Two or more"
   ]
  },
  {
   "cell_type": "code",
   "execution_count": null,
   "id": "4428a644-e960-439c-8de9-17791a9b540b",
   "metadata": {},
   "outputs": [],
   "source": [
    "percents['two_or_more']"
   ]
  },
  {
   "cell_type": "code",
   "execution_count": null,
   "id": "b035bed5-9f54-494a-97dc-411ac8c5a8bc",
   "metadata": {},
   "outputs": [],
   "source": [
    "make_heatmap(percents, 'GEOID', 'two_or_more_pct')"
   ]
  },
  {
   "cell_type": "code",
   "execution_count": null,
   "id": "d8121d09-5f15-43ea-9c53-fb87d34344f0",
   "metadata": {},
   "outputs": [],
   "source": [
    "percents['h_two_or_more'].sum()/percents['two_or_more'].sum()"
   ]
  },
  {
   "cell_type": "code",
   "execution_count": null,
   "id": "4ec53f80-6444-423b-888d-57d44c5fc387",
   "metadata": {},
   "outputs": [],
   "source": [
    "percents['nh_two_or_more'].sum()/percents['two_or_more'].sum()"
   ]
  },
  {
   "cell_type": "markdown",
   "id": "4f027dc5-fdd8-406c-a570-a867a62b5e0e",
   "metadata": {},
   "source": [
    "So of the people that checked off 2 or more races, 62% checked off hispanic and 38% did not. The split, therefore, is not roughly correct. \n",
    "\n",
    "What if we wanted to look at choosing 2 or more and some other race?"
   ]
  },
  {
   "cell_type": "markdown",
   "id": "5e0297fa-be94-4ceb-95fa-da8c62808d3f",
   "metadata": {},
   "source": [
    "## What if we changed to voting age population?"
   ]
  },
  {
   "cell_type": "code",
   "execution_count": null,
   "id": "72da4fc3-e6e0-4974-99d4-b9d15ec5f64a",
   "metadata": {},
   "outputs": [],
   "source": []
  }
 ],
 "metadata": {
  "kernelspec": {
   "display_name": ".venv",
   "language": "python",
   "name": ".venv"
  },
  "language_info": {
   "codemirror_mode": {
    "name": "ipython",
    "version": 3
   },
   "file_extension": ".py",
   "mimetype": "text/x-python",
   "name": "python",
   "nbconvert_exporter": "python",
   "pygments_lexer": "ipython3",
   "version": "3.11.5"
  }
 },
 "nbformat": 4,
 "nbformat_minor": 5
}
