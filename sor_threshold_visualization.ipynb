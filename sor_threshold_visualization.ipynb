{
 "cells": [
  {
   "cell_type": "code",
   "execution_count": null,
   "id": "ab9f1373",
   "metadata": {},
   "outputs": [],
   "source": [
    "import json\n",
    "\n",
    "import geopandas as gpd\n",
    "import pandas as pd\n",
    "import networkx as nx\n",
    "import numpy as np\n",
    "import matplotlib.pyplot as plt\n",
    "import requests\n",
    "import us\n",
    "\n",
    "from census import Census\n",
    "from shapely.geometry import Point\n",
    "\n",
    "import plotly.express as px\n",
    "\n",
    "from urllib.request import urlopen\n",
    "import json\n",
    "with urlopen('https://raw.githubusercontent.com/plotly/datasets/master/geojson-counties-fips.json') as response:\n",
    "    counties = json.load(response)"
   ]
  },
  {
   "cell_type": "markdown",
   "id": "519f36c3",
   "metadata": {},
   "source": [
    "Imports, data cleaning, copied from `sor.ipynb`"
   ]
  },
  {
   "cell_type": "code",
   "execution_count": null,
   "id": "04106629",
   "metadata": {},
   "outputs": [],
   "source": [
    "census = Census(\"\", year=2020)\n",
    "percents = pd.read_csv('all_race_pct_by_county.csv')\n",
    "percents = percents.astype({'GEOID': 'str'})\n",
    "\n",
    "string_fips = ['0']*len(percents)\n",
    "for i in range(len(percents)):\n",
    "    if len(percents.iloc[i]['GEOID']) == 4: \n",
    "        string_fips[i] = '0' + percents.iloc[i]['GEOID']\n",
    "    else: \n",
    "        string_fips[i] = percents.iloc[i]['GEOID']\n",
    "percents['GEOID'] = string_fips\n",
    "\n",
    "def fips_to_string(dataframe, fips_col_name):\n",
    "    dataframe = dataframe.astype({fips_col_name: 'str'})\n",
    "    string_fips = ['0']*len(dataframe)\n",
    "    for i in range(len(dataframe)):\n",
    "        if len(dataframe.iloc[i][fips_col_name]) == 4: \n",
    "            dataframe[i] = '0' + dataframe.iloc[i][fips_col_name]\n",
    "        else: \n",
    "            string_fips[i] = dataframe.iloc[i][fips_col_name]\n",
    "    dataframe[fips_col_name] = string_fips\n",
    "    return dataframe\n",
    "\n",
    "def make_heatmap(dataframe, fips_column_name, column_name):\n",
    "    maximum = dataframe[column_name].max()\n",
    "    fig = px.choropleth(dataframe, geojson=counties, locations=fips_column_name, color=column_name,\n",
    "                           color_continuous_scale=\"Viridis\",\n",
    "                           range_color=(0, maximum),\n",
    "                           scope=\"usa\",\n",
    "                           labels={'white':'percent white pop'}\n",
    "                          )\n",
    "    fig.update_layout(margin={\"r\":0,\"t\":0,\"l\":0,\"b\":0})\n",
    "    fig.show()"
   ]
  },
  {
   "cell_type": "markdown",
   "id": "8af5fd8d",
   "metadata": {},
   "source": [
    "My functions that let you animate the coloropleths with a threshold slider"
   ]
  },
  {
   "cell_type": "code",
   "execution_count": null,
   "id": "4e869d06",
   "metadata": {},
   "outputs": [],
   "source": [
    "def thresh_df(percents, col_count,col_pct,thresh):\n",
    "    \n",
    "    N_counties = len(percents[\"GEOID\"])\n",
    "    N_thresh = len(thresh)\n",
    "    base_df = percents[[col_count, col_pct, \"GEOID\"]]\n",
    "    concat_base_df = pd.concat([base_df for i in range(N_thresh)])\n",
    "    many_threshs = pd.Series(np.array([[thresh[i] for j in range(N_counties)] for i in range(N_thresh)]).ravel())\n",
    "\n",
    "    many_threshs.index = concat_base_df.index\n",
    "    many_threshs.name = \"thresh\" \n",
    "    big_df = pd.concat([concat_base_df, many_threshs],axis = 1)\n",
    "\n",
    "    return big_df[big_df[\"h_other\"]>= big_df[\"thresh\"]]\n",
    "\n",
    "def choropleth_with_slider(percents, col_count, col_pct, thresh_values, counties_geojson):\n",
    "    \"\"\"\n",
    "    col_count is the column of counts you want to set thresholds for\n",
    "    col_pct is the corresponding percent column you want to plot at various thresholds\n",
    "    thresh_values is a list or array of threshold values. At each threshold, everything ABOVE that threshold is plotted\n",
    "    counties_geojson is just counties\n",
    "    \"\"\"\n",
    "    \n",
    "    # call the other fn\n",
    "    big_df = thresh_df(percents, col_count, col_pct, thresh_values)\n",
    "    \n",
    "    max_value = big_df[col_pct].max()\n",
    "    fig = px.choropleth(\n",
    "        big_df,\n",
    "        geojson=counties_geojson,\n",
    "        locations=\"GEOID\",\n",
    "        color=col_pct,\n",
    "        color_continuous_scale=\"Viridis\",\n",
    "        range_color=(0, max_value),\n",
    "        scope=\"usa\",\n",
    "        labels={col_pct: col_pct},\n",
    "        animation_frame=\"thresh\" #### IMPORTANT, tells what to use for animation frames\n",
    "    )\n",
    "    fig.update_layout(\n",
    "        margin={\"r\":0, \"t\":0, \"l\":0, \"b\":0},\n",
    "        sliders=[{\n",
    "            \"active\": 0,\n",
    "            \"steps\": [{\n",
    "                \"args\": [[\"%s\" % t], {\"frame\": {\"duration\": 300, \"redraw\": True}, \"mode\": \"immediate\"}],\n",
    "                \"label\": f\"Threshold {t}\",\n",
    "                \"method\": \"animate\"\n",
    "            } for t in thresh_values]\n",
    "        }]\n",
    "    )\n",
    "    fig.show()"
   ]
  },
  {
   "cell_type": "markdown",
   "id": "176ca356",
   "metadata": {},
   "source": [
    "Example with thresholds for `h_other`, plotting `h_other_pct`:"
   ]
  },
  {
   "cell_type": "code",
   "execution_count": null,
   "id": "32e9907a",
   "metadata": {},
   "outputs": [],
   "source": [
    "#thresh_values = [0,5,10,25,50,75,100,250,500,750,1000,2500,5000,7500,10000,25000,50000,100000]  # or any list of thresholds\n",
    "thresh_values = np.rint(np.geomspace(5,100000,20))\n",
    "thresh_values = np.insert(thresh_values, 0, 0)\n",
    "\n",
    "choropleth_with_slider(percents, \"h_other\", \"h_other_pct\", thresh_values, counties)"
   ]
  },
  {
   "cell_type": "markdown",
   "id": "3fb4a56b",
   "metadata": {},
   "source": [
    "In this example I used exponentially increasing thresholds, since that seemed to create a plot that falls off at a pretty constant rate, though this may not be the same for other data! I've included a cell below to visualize how the thresholds increase."
   ]
  },
  {
   "cell_type": "code",
   "execution_count": null,
   "id": "62b6585b",
   "metadata": {},
   "outputs": [],
   "source": [
    "x = [i+1 for i in range(len(thresh_values))]\n",
    "y = thresh_values\n",
    "fig, ax = plt.subplots(1,2, dpi = 300, figsize = (10,5))\n",
    "\n",
    "ax[0].scatter(x, y)\n",
    "ax[0].set_xticks(x, x, rotation='horizontal')\n",
    "#ax[0].set_yticks(y, y, rotation='horizontal')\n",
    "ax[0].grid()\n",
    "ax[0].set_title(\"thresholds used (linear scale)\")\n",
    "ax[0].set_xlabel(\"index\")\n",
    "ax[0].set_ylabel(\"threshold\")\n",
    "\n",
    "ax[1].scatter(x, y)\n",
    "ax[1].set_xticks(x, x, rotation='horizontal')\n",
    "#ax[1].set_yticks(y, y, rotation='horizontal')\n",
    "ax[1].grid()\n",
    "ax[1].set_title(\"thresholds used (log scale)\")\n",
    "ax[1].set_xlabel(\"index\")\n",
    "ax[1].set_ylabel(\"threshold\")\n",
    "ax[1].set_yscale('log')\n",
    "plt.tight_layout()\n",
    "plt.show()"
   ]
  },
  {
   "cell_type": "code",
   "execution_count": null,
   "id": "5cdb9e83",
   "metadata": {},
   "outputs": [],
   "source": []
  }
 ],
 "metadata": {
  "kernelspec": {
   "display_name": "sor",
   "language": "python",
   "name": "python3"
  },
  "language_info": {
   "codemirror_mode": {
    "name": "ipython",
    "version": 3
   },
   "file_extension": ".py",
   "mimetype": "text/x-python",
   "name": "python",
   "nbconvert_exporter": "python",
   "pygments_lexer": "ipython3",
   "version": "3.13.5"
  }
 },
 "nbformat": 4,
 "nbformat_minor": 5
}
